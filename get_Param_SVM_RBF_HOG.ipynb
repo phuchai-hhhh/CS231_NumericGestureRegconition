{
 "cells": [
  {
   "cell_type": "code",
   "execution_count": 1,
   "metadata": {},
   "outputs": [
    {
     "name": "stderr",
     "output_type": "stream",
     "text": [
      "c:\\Users\\PhucHai\\anaconda3\\Lib\\site-packages\\paramiko\\transport.py:219: CryptographyDeprecationWarning: Blowfish has been deprecated\n",
      "  \"class\": algorithms.Blowfish,\n"
     ]
    }
   ],
   "source": [
    "import os\n",
    "import glob\n",
    "import cv2\n",
    "from skimage.feature import hog\n",
    "from sklearn.model_selection import GridSearchCV, KFold\n",
    "from sklearn.svm import SVC\n",
    "from sklearn.metrics import accuracy_score, classification_report\n",
    "from concurrent.futures import ThreadPoolExecutor, as_completed\n",
    "import time\n",
    "import psutil"
   ]
  },
  {
   "cell_type": "code",
   "execution_count": 2,
   "metadata": {},
   "outputs": [],
   "source": [
    "root_path = 'D:\\\\CS231\\\\FinalProject'\n",
    "root_list = os.listdir(root_path)\n",
    "train_path = os.path.join(root_path, 'train')\n",
    "test_path = os.path.join(root_path, 'test')"
   ]
  },
  {
   "cell_type": "code",
   "execution_count": 3,
   "metadata": {},
   "outputs": [
    {
     "name": "stdout",
     "output_type": "stream",
     "text": [
      "Testing orientations=6, pixels_per_cell=(4, 4), cells_per_block=(2, 2)\n",
      "Best accuracy: 0.8628024961305062\n",
      "Testing orientations=6, pixels_per_cell=(4, 4), cells_per_block=(3, 3)\n",
      "Best accuracy: 0.8741923199764144\n"
     ]
    }
   ],
   "source": [
    "image_train = []\n",
    "y_train = []\n",
    "\n",
    "def compute_hog_feature(image, orientations, pixels_per_cell, cells_per_block):\n",
    "    if image is not None:\n",
    "        hog_feature, _ = hog(image, orientations=orientations, pixels_per_cell=pixels_per_cell, cells_per_block=cells_per_block, block_norm='L2-Hys', visualize=True)\n",
    "        return hog_feature\n",
    "    return None\n",
    "\n",
    "for index, image_dir in enumerate(os.listdir(train_path)):\n",
    "    label = index\n",
    "    image_dir_path = os.path.join(train_path, image_dir)\n",
    "    image_paths = glob.glob(os.path.join(image_dir_path, \"*.jpg\"))\n",
    "    \n",
    "    for image_path in image_paths:\n",
    "        image = cv2.imread(image_path)\n",
    "        if image is not None:\n",
    "            img_GRAY = cv2.cvtColor(image, cv2.COLOR_BGR2GRAY)\n",
    "            img_GRAY = cv2.resize(img_GRAY, (128, 128))\n",
    "            image_train.append(img_GRAY)\n",
    "            y_train.append(label)\n",
    "\n",
    "orientations_list = [6,9,12]\n",
    "pixels_per_cell_list = [(4, 4), (8, 8), (16, 16)]\n",
    "cells_per_block_list = [(2, 2), (3, 3), (4, 4)]\n",
    "\n",
    "best_params = None\n",
    "best_accuracy = 0\n",
    "\n",
    "def evaluate_hog_parameters(orientations, pixels_per_cell, cells_per_block):\n",
    "    with ThreadPoolExecutor() as executor:\n",
    "        futures = [executor.submit(compute_hog_feature, img, orientations, pixels_per_cell, cells_per_block) for img in image_train]\n",
    "        X_train_hog = [future.result() for future in as_completed(futures) if future.result() is not None]\n",
    "\n",
    "    svm_classifier = SVC()\n",
    "\n",
    "    param_grid = {\n",
    "        'C': [0.001, 0.01, 0.1, 1, 10, 100], \n",
    "        'kernel': ['rbf'], \n",
    "        'gamma':[0.0001, 0.001, 0.01, 1, 10, 100] \n",
    "    }\n",
    "\n",
    "    num_folds = 5\n",
    "    kf = KFold(n_splits=num_folds, shuffle=True, random_state=42)\n",
    "\n",
    "    grid_search = GridSearchCV(svm_classifier, param_grid, cv=kf, n_jobs=-1)\n",
    "\n",
    "    grid_search.fit(X_train_hog, y_train)\n",
    "\n",
    "    results = grid_search.cv_results_\n",
    "\n",
    "    best_mean_score = -1\n",
    "    best_parameters = None\n",
    "    for mean_score, params in zip(results['mean_test_score'], results['params']):\n",
    "        if best_mean_score < mean_score:\n",
    "            best_mean_score = mean_score\n",
    "            best_parameters = params\n",
    "\n",
    "    return best_mean_score, best_parameters, orientations, pixels_per_cell, cells_per_block\n",
    "\n",
    "parameter_combinations = [(orientations, pixels_per_cell, cells_per_block) \n",
    "                          for orientations in orientations_list\n",
    "                          for pixels_per_cell in pixels_per_cell_list\n",
    "                          for cells_per_block in cells_per_block_list]\n",
    "\n",
    "for i in range(0, len(parameter_combinations), 2):\n",
    "    pairs_to_evaluate = parameter_combinations[i:i+2]\n",
    "    \n",
    "    with ThreadPoolExecutor() as executor:\n",
    "        futures = [executor.submit(evaluate_hog_parameters, *params) for params in pairs_to_evaluate]\n",
    "        \n",
    "        for future in as_completed(futures):\n",
    "            mean_score, params, orientations, pixels_per_cell, cells_per_block = future.result()\n",
    "            print(f\"Testing orientations={orientations}, pixels_per_cell={pixels_per_cell}, cells_per_block={cells_per_block}\")\n",
    "            print(f\"Best accuracy: {mean_score}\")\n",
    "            if mean_score > best_accuracy:\n",
    "                best_accuracy = mean_score\n",
    "                best_params = {\n",
    "                    'orientations': orientations,\n",
    "                    'pixels_per_cell': pixels_per_cell,\n",
    "                    'cells_per_block': cells_per_block,\n",
    "                    'C': params['C'],\n",
    "                    'gamma': params['gamma']\n",
    "                }\n",
    "\n",
    "print(f\"Best parameters: {best_params}\")\n",
    "print(f\"Best accuracy: {best_accuracy}\")"
   ]
  }
 ],
 "metadata": {
  "kernelspec": {
   "display_name": "base",
   "language": "python",
   "name": "python3"
  },
  "language_info": {
   "codemirror_mode": {
    "name": "ipython",
    "version": 3
   },
   "file_extension": ".py",
   "mimetype": "text/x-python",
   "name": "python",
   "nbconvert_exporter": "python",
   "pygments_lexer": "ipython3",
   "version": "3.11.4"
  }
 },
 "nbformat": 4,
 "nbformat_minor": 2
}
