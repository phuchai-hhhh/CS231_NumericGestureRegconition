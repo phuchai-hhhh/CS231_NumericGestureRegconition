{
 "cells": [
  {
   "cell_type": "code",
   "execution_count": 1,
   "metadata": {},
   "outputs": [],
   "source": [
    "from sklearn.preprocessing import StandardScaler\n",
    "import matplotlib.pyplot as plt\n",
    "import numpy as np\n",
    "import os\n",
    "import pandas as pd\n",
    "#from keras.layers import Dense,Conv2D,Dropout,Flatten,MaxPooling2D, BatchNormalization,Input,concatenate, AveragePooling2D\n",
    "import cv2\n",
    "#import seaborn as sns\n",
    "from sklearn.model_selection import train_test_split\n",
    "from sklearn import preprocessing\n",
    "#from keras.models import Sequential\n",
    "#from keras.callbacks import EarlyStopping,ReduceLROnPlateau,ModelCheckpoint\n",
    "#from keras.preprocessing.image import ImageDataGenerator\n",
    "#from keras.models import load_model\n",
    "from sklearn.cluster import KMeans\n",
    "import imutils\n",
    "from skimage.feature import hog\n",
    "import glob\n",
    "from sklearn.svm import SVC\n",
    "from sklearn.metrics import classification_report, accuracy_score"
   ]
  },
  {
   "cell_type": "code",
   "execution_count": 2,
   "metadata": {},
   "outputs": [],
   "source": [
    "root_path = 'D:\\\\CS231\\\\FinalProject'\n",
    "root_list = os.listdir(root_path)\n",
    "train_path = os.path.join(root_path, 'train')\n",
    "test_path = os.path.join(root_path, 'test')"
   ]
  },
  {
   "cell_type": "code",
   "execution_count": 3,
   "metadata": {},
   "outputs": [],
   "source": [
    "X_train = []\n",
    "y_train = []\n",
    "X_test = []\n",
    "y_test = []"
   ]
  },
  {
   "cell_type": "code",
   "execution_count": 4,
   "metadata": {},
   "outputs": [],
   "source": [
    "for index, image_dir in enumerate(os.listdir(train_path)):\n",
    "    label = index\n",
    "    image_dir_path = os.path.join(train_path, image_dir)\n",
    "    image_paths = glob.glob(os.path.join(image_dir_path, \"*.jpg\"))  \n",
    "\n",
    "    for image_path in image_paths:\n",
    "        image = cv2.imread(image_path)\n",
    "        if image is not None:\n",
    "            img_GRAY = cv2.cvtColor(image, cv2.COLOR_BGR2GRAY)\n",
    "            img_GRAY = cv2.resize(img_GRAY,(128,128))\n",
    "    \n",
    "            hog_feature, hog_image = hog(img_GRAY, orientations=9, pixels_per_cell=(16, 16), cells_per_block=(3, 3), block_norm='L2-Hys', visualize=True)\n",
    "            \n",
    "            X_train.append(hog_feature)\n",
    "            y_train.append(label)\n",
    "\n",
    "for index, image_dir in enumerate(os.listdir(test_path)):\n",
    "    label = index\n",
    "    image_dir_path = os.path.join(test_path, image_dir) \n",
    "    image_paths = glob.glob(os.path.join(image_dir_path, \"*.jpg\"))  \n",
    "    \n",
    "    for image_path in image_paths:\n",
    "        image = cv2.imread(image_path)\n",
    "        if image is not None:\n",
    "            img_GRAY = cv2.cvtColor(image, cv2.COLOR_BGR2GRAY)\n",
    "            img_GRAY = cv2.resize(img_GRAY,(128,128))\n",
    "            \n",
    "            hog_feature, hog_image = hog(img_GRAY, orientations=9, pixels_per_cell=(16, 16), cells_per_block=(3, 3), block_norm='L2-Hys', visualize=True)\n",
    "            \n",
    "            X_test.append(hog_feature)\n",
    "            y_test.append(label)"
   ]
  },
  {
   "cell_type": "code",
   "execution_count": 5,
   "metadata": {},
   "outputs": [],
   "source": [
    "X_train = np.array(X_train)\n",
    "y_train = np.array(y_train)\n",
    "\n",
    "X_test = np.array(X_test)\n",
    "y_test = np.array(y_test)"
   ]
  },
  {
   "cell_type": "code",
   "execution_count": 6,
   "metadata": {},
   "outputs": [
    {
     "name": "stdout",
     "output_type": "stream",
     "text": [
      "Mean Accuracy: 0.31797164828145347\n",
      "Parameters: {'C': 0.001, 'kernel': 'linear'}\n",
      "\n",
      "\n",
      "Mean Accuracy: 0.873682529543277\n",
      "Parameters: {'C': 0.01, 'kernel': 'linear'}\n",
      "\n",
      "\n",
      "Mean Accuracy: 0.9291698400609292\n",
      "Parameters: {'C': 0.1, 'kernel': 'linear'}\n",
      "\n",
      "\n",
      "Mean Accuracy: 0.9276883767781244\n",
      "Parameters: {'C': 1, 'kernel': 'linear'}\n",
      "\n",
      "\n",
      "Mean Accuracy: 0.9276883767781244\n",
      "Parameters: {'C': 10, 'kernel': 'linear'}\n",
      "\n",
      "\n",
      "Mean Accuracy: 0.9276883767781244\n",
      "Parameters: {'C': 100, 'kernel': 'linear'}\n",
      "\n",
      "\n",
      "Best parameters: {'C': 0.1, 'kernel': 'linear'}\n",
      "Accuracy: 0.9\n",
      "Classification Report for Best Model:\n",
      "               precision    recall  f1-score   support\n",
      "\n",
      "           0       1.00      1.00      1.00         5\n",
      "           1       1.00      1.00      1.00         5\n",
      "           2       1.00      1.00      1.00         5\n",
      "           3       1.00      1.00      1.00         5\n",
      "           4       0.67      0.80      0.73         5\n",
      "           5       1.00      1.00      1.00         5\n",
      "           6       0.80      0.80      0.80         5\n",
      "           7       0.75      0.60      0.67         5\n",
      "           8       0.80      0.80      0.80         5\n",
      "           9       1.00      1.00      1.00         5\n",
      "\n",
      "    accuracy                           0.90        50\n",
      "   macro avg       0.90      0.90      0.90        50\n",
      "weighted avg       0.90      0.90      0.90        50\n",
      "\n",
      "Best parameters are {'C': 0.1, 'kernel': 'linear'} \n",
      "Score : 92.92%\n"
     ]
    },
    {
     "data": {
      "image/png": "[encoded data removed]",
      "text/plain": [
       "<Figure size 1000x600 with 1 Axes>"
      ]
     },
     "metadata": {},
     "output_type": "display_data"
    }
   ],
   "source": [
    "from sklearn.model_selection import GridSearchCV, KFold\n",
    "from sklearn.svm import SVC\n",
    "from sklearn.metrics import accuracy_score, classification_report\n",
    "\n",
    "svm_classifier = SVC()\n",
    "\n",
    "param_grid = {\n",
    "    'C': [0.001, 0.01, 0.1, 1, 10, 100],\n",
    "    'kernel': ['linear'], \n",
    "}\n",
    "\n",
    "num_folds = 5\n",
    "kf = KFold(n_splits=num_folds, shuffle=True, random_state=42)\n",
    "\n",
    "grid_search = GridSearchCV(svm_classifier, param_grid, cv=kf)\n",
    "\n",
    "grid_search.fit(X_train, y_train)\n",
    "\n",
    "results = grid_search.cv_results_\n",
    "\n",
    "for mean_score, params in zip(results['mean_test_score'], results['params']):\n",
    "    print(\"Mean Accuracy:\", mean_score)\n",
    "    print(\"Parameters:\", params)\n",
    "    print(\"\\n\")\n",
    "\n",
    "best_params = grid_search.best_params_\n",
    "print(\"Best parameters:\", best_params)\n",
    "\n",
    "best_model = grid_search.best_estimator_\n",
    "y_pred = best_model.predict(X_test)\n",
    "\n",
    "accuracy = accuracy_score(y_test, y_pred)\n",
    "print(\"Accuracy:\", accuracy)\n",
    "\n",
    "report = classification_report(y_test, y_pred)\n",
    "print(\"Classification Report for Best Model:\\n\", report)\n",
    "\n",
    "print(\"Best parameters are {} \\nScore : {:.2f}%\".format(grid_search.best_params_, grid_search.best_score_ * 100))\n",
    "\n",
    "plt.figure(figsize=(10, 6))\n",
    "plt.title(\"Accuracy vs C parameter\")\n",
    "plt.xlabel(\"C\")\n",
    "plt.ylabel(\"Accuracy\")\n",
    "plt.plot(param_grid['C'], grid_search.cv_results_['mean_test_score'], 'o-', color='b')\n",
    "\n",
    "plt.xscale('log')\n",
    "plt.grid(True)\n",
    "plt.show()"
   ]
  },
  {
   "cell_type": "code",
   "execution_count": 20,
   "metadata": {},
   "outputs": [
    {
     "data": {
      "text/plain": [
       "['SVM_Linear_model_HOG.pkl']"
      ]
     },
     "execution_count": 20,
     "metadata": {},
     "output_type": "execute_result"
    }
   ],
   "source": [
    "import joblib\n",
    "joblib.dump(best_model, 'SVM_Linear_model_HOG.pkl')"
   ]
  }
 ],
 "metadata": {
  "kernelspec": {
   "display_name": "base",
   "language": "python",
   "name": "python3"
  },
  "language_info": {
   "codemirror_mode": {
    "name": "ipython",
    "version": 3
   },
   "file_extension": ".py",
   "mimetype": "text/x-python",
   "name": "python",
   "nbconvert_exporter": "python",
   "pygments_lexer": "ipython3",
   "version": "3.8.10"
  }
 },
 "nbformat": 4,
 "nbformat_minor": 2
}
